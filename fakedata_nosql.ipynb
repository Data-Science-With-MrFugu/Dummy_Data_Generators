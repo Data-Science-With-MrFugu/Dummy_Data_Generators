{
 "cells": [
  {
   "cell_type": "code",
   "execution_count": 2,
   "metadata": {},
   "outputs": [
    {
     "name": "stdout",
     "output_type": "stream",
     "text": [
      "Collecting faker\n",
      "\u001b[?25l  Downloading https://files.pythonhosted.org/packages/67/ed/94a23058daff92545869848ccbcaeb826bc79c6ba4459c7df31ebe1f196d/Faker-2.0.1-py2.py3-none-any.whl (878kB)\n",
      "\u001b[K    100% |████████████████████████████████| 880kB 7.5MB/s ta 0:00:011\n",
      "\u001b[?25hRequirement already satisfied: six>=1.10 in /Users/zatoichi59/anaconda3/lib/python3.7/site-packages (from faker) (1.12.0)\n",
      "Requirement already satisfied: python-dateutil>=2.4 in /Users/zatoichi59/anaconda3/lib/python3.7/site-packages (from faker) (2.8.0)\n",
      "Requirement already satisfied: text-unidecode==1.2 in /Users/zatoichi59/.local/lib/python3.7/site-packages (from faker) (1.2)\n",
      "Installing collected packages: faker\n",
      "Successfully installed faker-2.0.1\n"
     ]
    }
   ],
   "source": [
    "!pip install faker"
   ]
  },
  {
   "cell_type": "code",
   "execution_count": 3,
   "metadata": {},
   "outputs": [],
   "source": [
    "import pandas as pd\n",
    "from faker import Factory,Faker\n",
    "import csv\n",
    "\n",
    "fake_data=Faker()\n",
    "\n",
    "\n",
    "# Creating separately the Fake address, city, state abbreviation and user_names for 6000 people\n",
    "def userS_stuff(h):\n",
    "    user_list=[]\n",
    "    for i in range(0,h):\n",
    "        user_list.append(fake_data.address())\n",
    "#         user_list.append(fake_data.city())\n",
    "#         user_list.append(fake_data.state_abbr())\n",
    "#         user_list.append(fake_data.user_name())\n",
    "    return user_list     #pay attn here if indented more it overrides data and prints 1\n",
    "\n",
    "#writing out csv files which I will use in R with my other data which I will try to put into PSQL,\n",
    "# I could use a library here \n",
    "def userS(h):\n",
    "    user_list=[]\n",
    "    for i in range(0,h):\n",
    "        user_list.append(fake_data.city())\n",
    "    return user_list \n",
    "\n",
    "def user(h):\n",
    "    user_list=[]\n",
    "    for i in range(0,h):\n",
    "        user_list.append(fake_data.state_abbr())\n",
    "    return user_list \n",
    "\n",
    "def use(h):\n",
    "    user_list=[]\n",
    "    for i in range(0,h):\n",
    "        user_list.append(fake_data.user_name())\n",
    "    return user_list \n",
    "\n",
    "\n",
    "def us(h):\n",
    "    user_list=[]\n",
    "    for i in range(0,h):\n",
    "        user_list.append(fake_data.zipcode())\n",
    "    return user_list\n",
    "\n",
    "# class Users:\n",
    "#     def __init__(self,address,city,state,username):\n",
    "#         self.address=address\n",
    "#         self.city=city\n",
    "#         self.state=state\n",
    "#         self.username=username\n",
    "#     def __repr__(self):\n",
    "#         return 'address:{},city:{},state:{},username:{}'.format(self.address,self.city,self.state,self.username)\n",
    "# this_sucks=Users(fake_data.address(),fake_data.city(),fake_data.state_abbr(),fake_data.user_name())\n",
    "\n",
    "\n",
    "with open('fake_address.csv','w',newline='') as csvfile:\n",
    "    CSV_fake_nosql=csv.writer(csvfile)\n",
    "    for i in userS_stuff(6001):\n",
    "        CSV_fake_nosql.writerow([i])\n",
    "\n",
    "with open('fake_city.csv','w',newline='') as csvfile:\n",
    "    CSV_fake_nosql=csv.writer(csvfile)\n",
    "    for i in userS(6001):\n",
    "        CSV_fake_nosql.writerow([i])\n",
    "        \n",
    "with open('fake_state_abbr.csv','w',newline='') as csvfile:\n",
    "    CSV_fake_nosql=csv.writer(csvfile)\n",
    "    for i in user(6001):\n",
    "        CSV_fake_nosql.writerow([i])\n",
    "        \n",
    "with open('fake_user.csv','w',newline='') as csvfile:\n",
    "    CSV_fake_nosql=csv.writer(csvfile)\n",
    "    for i in use(6001):\n",
    "        CSV_fake_nosql.writerow([i])\n",
    "\n",
    "        \n",
    "with open('fake_zipcode.csv','w',newline='') as csvfile:\n",
    "    CSV_fake_nosql=csv.writer(csvfile)\n",
    "    for i in us(6001):\n",
    "        CSV_fake_nosql.writerow([i])"
   ]
  },
  {
   "cell_type": "code",
   "execution_count": 5,
   "metadata": {},
   "outputs": [
    {
     "data": {
      "text/plain": [
       "'schultzmelissa'"
      ]
     },
     "execution_count": 5,
     "metadata": {},
     "output_type": "execute_result"
    }
   ],
   "source": [
    "fake_data.user_name()"
   ]
  },
  {
   "cell_type": "code",
   "execution_count": null,
   "metadata": {},
   "outputs": [],
   "source": [
    "#Great video help for fake data in Python::\n",
    "#https://www.youtube.com/watch?v=bW2uTvvqTg4"
   ]
  }
 ],
 "metadata": {
  "kernelspec": {
   "display_name": "Python 3",
   "language": "python",
   "name": "python3"
  },
  "language_info": {
   "codemirror_mode": {
    "name": "ipython",
    "version": 3
   },
   "file_extension": ".py",
   "mimetype": "text/x-python",
   "name": "python",
   "nbconvert_exporter": "python",
   "pygments_lexer": "ipython3",
   "version": "3.7.3"
  }
 },
 "nbformat": 4,
 "nbformat_minor": 2
}
